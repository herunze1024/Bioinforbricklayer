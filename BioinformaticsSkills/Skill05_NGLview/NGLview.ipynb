{
 "cells": [
  {
   "cell_type": "code",
   "execution_count": 11,
   "id": "d3aa4542",
   "metadata": {
    "collapsed": true
   },
   "outputs": [
    {
     "name": "stdout",
     "output_type": "stream",
     "text": [
      "Requirement already satisfied: nglview in /Users/whe3/anaconda3/lib/python3.9/site-packages (3.0.3)\n",
      "Requirement already satisfied: numpy in /Users/whe3/anaconda3/lib/python3.9/site-packages (from nglview) (1.20.3)\n",
      "Requirement already satisfied: jupyterlab-widgets in /Users/whe3/anaconda3/lib/python3.9/site-packages (from nglview) (1.0.0)\n",
      "Requirement already satisfied: ipywidgets>=7 in /Users/whe3/anaconda3/lib/python3.9/site-packages (from nglview) (7.6.5)\n",
      "Requirement already satisfied: traitlets>=4.3.1 in /Users/whe3/anaconda3/lib/python3.9/site-packages (from ipywidgets>=7->nglview) (5.1.0)\n",
      "Requirement already satisfied: ipython-genutils~=0.2.0 in /Users/whe3/anaconda3/lib/python3.9/site-packages (from ipywidgets>=7->nglview) (0.2.0)\n",
      "Requirement already satisfied: widgetsnbextension~=3.5.0 in /Users/whe3/anaconda3/lib/python3.9/site-packages (from ipywidgets>=7->nglview) (3.5.1)\n",
      "Requirement already satisfied: nbformat>=4.2.0 in /Users/whe3/anaconda3/lib/python3.9/site-packages (from ipywidgets>=7->nglview) (5.1.3)\n",
      "Requirement already satisfied: ipython>=4.0.0 in /Users/whe3/anaconda3/lib/python3.9/site-packages (from ipywidgets>=7->nglview) (7.29.0)\n",
      "Requirement already satisfied: ipykernel>=4.5.1 in /Users/whe3/anaconda3/lib/python3.9/site-packages (from ipywidgets>=7->nglview) (6.4.1)\n",
      "Requirement already satisfied: matplotlib-inline<0.2.0,>=0.1.0 in /Users/whe3/anaconda3/lib/python3.9/site-packages (from ipykernel>=4.5.1->ipywidgets>=7->nglview) (0.1.2)\n",
      "Requirement already satisfied: jupyter-client<8.0 in /Users/whe3/anaconda3/lib/python3.9/site-packages (from ipykernel>=4.5.1->ipywidgets>=7->nglview) (6.1.12)\n",
      "Requirement already satisfied: tornado<7.0,>=4.2 in /Users/whe3/anaconda3/lib/python3.9/site-packages (from ipykernel>=4.5.1->ipywidgets>=7->nglview) (6.1)\n",
      "Requirement already satisfied: debugpy<2.0,>=1.0.0 in /Users/whe3/anaconda3/lib/python3.9/site-packages (from ipykernel>=4.5.1->ipywidgets>=7->nglview) (1.4.1)\n",
      "Requirement already satisfied: appnope in /Users/whe3/anaconda3/lib/python3.9/site-packages (from ipykernel>=4.5.1->ipywidgets>=7->nglview) (0.1.2)\n",
      "Requirement already satisfied: pexpect>4.3 in /Users/whe3/anaconda3/lib/python3.9/site-packages (from ipython>=4.0.0->ipywidgets>=7->nglview) (4.8.0)\n",
      "Requirement already satisfied: jedi>=0.16 in /Users/whe3/anaconda3/lib/python3.9/site-packages (from ipython>=4.0.0->ipywidgets>=7->nglview) (0.18.0)\n",
      "Requirement already satisfied: decorator in /Users/whe3/anaconda3/lib/python3.9/site-packages (from ipython>=4.0.0->ipywidgets>=7->nglview) (5.1.0)\n",
      "Requirement already satisfied: pygments in /Users/whe3/anaconda3/lib/python3.9/site-packages (from ipython>=4.0.0->ipywidgets>=7->nglview) (2.10.0)\n",
      "Requirement already satisfied: backcall in /Users/whe3/anaconda3/lib/python3.9/site-packages (from ipython>=4.0.0->ipywidgets>=7->nglview) (0.2.0)\n",
      "Requirement already satisfied: setuptools>=18.5 in /Users/whe3/anaconda3/lib/python3.9/site-packages (from ipython>=4.0.0->ipywidgets>=7->nglview) (58.0.4)\n",
      "Requirement already satisfied: pickleshare in /Users/whe3/anaconda3/lib/python3.9/site-packages (from ipython>=4.0.0->ipywidgets>=7->nglview) (0.7.5)\n",
      "Requirement already satisfied: prompt-toolkit!=3.0.0,!=3.0.1,<3.1.0,>=2.0.0 in /Users/whe3/anaconda3/lib/python3.9/site-packages (from ipython>=4.0.0->ipywidgets>=7->nglview) (3.0.20)\n",
      "Requirement already satisfied: parso<0.9.0,>=0.8.0 in /Users/whe3/anaconda3/lib/python3.9/site-packages (from jedi>=0.16->ipython>=4.0.0->ipywidgets>=7->nglview) (0.8.2)\n",
      "Requirement already satisfied: python-dateutil>=2.1 in /Users/whe3/anaconda3/lib/python3.9/site-packages (from jupyter-client<8.0->ipykernel>=4.5.1->ipywidgets>=7->nglview) (2.8.2)\n",
      "Requirement already satisfied: pyzmq>=13 in /Users/whe3/anaconda3/lib/python3.9/site-packages (from jupyter-client<8.0->ipykernel>=4.5.1->ipywidgets>=7->nglview) (22.2.1)\n",
      "Requirement already satisfied: jupyter-core>=4.6.0 in /Users/whe3/anaconda3/lib/python3.9/site-packages (from jupyter-client<8.0->ipykernel>=4.5.1->ipywidgets>=7->nglview) (4.8.1)\n",
      "Requirement already satisfied: jsonschema!=2.5.0,>=2.4 in /Users/whe3/anaconda3/lib/python3.9/site-packages (from nbformat>=4.2.0->ipywidgets>=7->nglview) (3.2.0)\n",
      "Requirement already satisfied: pyrsistent>=0.14.0 in /Users/whe3/anaconda3/lib/python3.9/site-packages (from jsonschema!=2.5.0,>=2.4->nbformat>=4.2.0->ipywidgets>=7->nglview) (0.18.0)\n",
      "Requirement already satisfied: attrs>=17.4.0 in /Users/whe3/anaconda3/lib/python3.9/site-packages (from jsonschema!=2.5.0,>=2.4->nbformat>=4.2.0->ipywidgets>=7->nglview) (21.2.0)\n",
      "Requirement already satisfied: six>=1.11.0 in /Users/whe3/anaconda3/lib/python3.9/site-packages (from jsonschema!=2.5.0,>=2.4->nbformat>=4.2.0->ipywidgets>=7->nglview) (1.16.0)\n",
      "Requirement already satisfied: ptyprocess>=0.5 in /Users/whe3/anaconda3/lib/python3.9/site-packages (from pexpect>4.3->ipython>=4.0.0->ipywidgets>=7->nglview) (0.7.0)\n",
      "Requirement already satisfied: wcwidth in /Users/whe3/anaconda3/lib/python3.9/site-packages (from prompt-toolkit!=3.0.0,!=3.0.1,<3.1.0,>=2.0.0->ipython>=4.0.0->ipywidgets>=7->nglview) (0.2.5)\n",
      "Requirement already satisfied: notebook>=4.4.1 in /Users/whe3/anaconda3/lib/python3.9/site-packages (from widgetsnbextension~=3.5.0->ipywidgets>=7->nglview) (6.4.5)\n",
      "Requirement already satisfied: argon2-cffi in /Users/whe3/anaconda3/lib/python3.9/site-packages (from notebook>=4.4.1->widgetsnbextension~=3.5.0->ipywidgets>=7->nglview) (20.1.0)\n",
      "Requirement already satisfied: nbconvert in /Users/whe3/anaconda3/lib/python3.9/site-packages (from notebook>=4.4.1->widgetsnbextension~=3.5.0->ipywidgets>=7->nglview) (6.1.0)\n",
      "Requirement already satisfied: terminado>=0.8.3 in /Users/whe3/anaconda3/lib/python3.9/site-packages (from notebook>=4.4.1->widgetsnbextension~=3.5.0->ipywidgets>=7->nglview) (0.9.4)\n",
      "Requirement already satisfied: Send2Trash>=1.5.0 in /Users/whe3/anaconda3/lib/python3.9/site-packages (from notebook>=4.4.1->widgetsnbextension~=3.5.0->ipywidgets>=7->nglview) (1.8.0)\n",
      "Requirement already satisfied: prometheus-client in /Users/whe3/anaconda3/lib/python3.9/site-packages (from notebook>=4.4.1->widgetsnbextension~=3.5.0->ipywidgets>=7->nglview) (0.11.0)\n",
      "Requirement already satisfied: jinja2 in /Users/whe3/anaconda3/lib/python3.9/site-packages (from notebook>=4.4.1->widgetsnbextension~=3.5.0->ipywidgets>=7->nglview) (2.11.3)\n",
      "Requirement already satisfied: cffi>=1.0.0 in /Users/whe3/anaconda3/lib/python3.9/site-packages (from argon2-cffi->notebook>=4.4.1->widgetsnbextension~=3.5.0->ipywidgets>=7->nglview) (1.14.6)\n",
      "Requirement already satisfied: pycparser in /Users/whe3/anaconda3/lib/python3.9/site-packages (from cffi>=1.0.0->argon2-cffi->notebook>=4.4.1->widgetsnbextension~=3.5.0->ipywidgets>=7->nglview) (2.20)\n",
      "Requirement already satisfied: MarkupSafe>=0.23 in /Users/whe3/anaconda3/lib/python3.9/site-packages (from jinja2->notebook>=4.4.1->widgetsnbextension~=3.5.0->ipywidgets>=7->nglview) (1.1.1)\n",
      "Requirement already satisfied: entrypoints>=0.2.2 in /Users/whe3/anaconda3/lib/python3.9/site-packages (from nbconvert->notebook>=4.4.1->widgetsnbextension~=3.5.0->ipywidgets>=7->nglview) (0.3)\n",
      "Requirement already satisfied: pandocfilters>=1.4.1 in /Users/whe3/anaconda3/lib/python3.9/site-packages (from nbconvert->notebook>=4.4.1->widgetsnbextension~=3.5.0->ipywidgets>=7->nglview) (1.4.3)\n",
      "Requirement already satisfied: testpath in /Users/whe3/anaconda3/lib/python3.9/site-packages (from nbconvert->notebook>=4.4.1->widgetsnbextension~=3.5.0->ipywidgets>=7->nglview) (0.5.0)\n",
      "Requirement already satisfied: jupyterlab-pygments in /Users/whe3/anaconda3/lib/python3.9/site-packages (from nbconvert->notebook>=4.4.1->widgetsnbextension~=3.5.0->ipywidgets>=7->nglview) (0.1.2)\n",
      "Requirement already satisfied: nbclient<0.6.0,>=0.5.0 in /Users/whe3/anaconda3/lib/python3.9/site-packages (from nbconvert->notebook>=4.4.1->widgetsnbextension~=3.5.0->ipywidgets>=7->nglview) (0.5.3)\n",
      "Requirement already satisfied: defusedxml in /Users/whe3/anaconda3/lib/python3.9/site-packages (from nbconvert->notebook>=4.4.1->widgetsnbextension~=3.5.0->ipywidgets>=7->nglview) (0.7.1)\n",
      "Requirement already satisfied: mistune<2,>=0.8.1 in /Users/whe3/anaconda3/lib/python3.9/site-packages (from nbconvert->notebook>=4.4.1->widgetsnbextension~=3.5.0->ipywidgets>=7->nglview) (0.8.4)\n",
      "Requirement already satisfied: bleach in /Users/whe3/anaconda3/lib/python3.9/site-packages (from nbconvert->notebook>=4.4.1->widgetsnbextension~=3.5.0->ipywidgets>=7->nglview) (4.0.0)\n",
      "Requirement already satisfied: async-generator in /Users/whe3/anaconda3/lib/python3.9/site-packages (from nbclient<0.6.0,>=0.5.0->nbconvert->notebook>=4.4.1->widgetsnbextension~=3.5.0->ipywidgets>=7->nglview) (1.10)\n"
     ]
    },
    {
     "name": "stdout",
     "output_type": "stream",
     "text": [
      "Requirement already satisfied: nest-asyncio in /Users/whe3/anaconda3/lib/python3.9/site-packages (from nbclient<0.6.0,>=0.5.0->nbconvert->notebook>=4.4.1->widgetsnbextension~=3.5.0->ipywidgets>=7->nglview) (1.5.1)\r\n",
      "Requirement already satisfied: webencodings in /Users/whe3/anaconda3/lib/python3.9/site-packages (from bleach->nbconvert->notebook>=4.4.1->widgetsnbextension~=3.5.0->ipywidgets>=7->nglview) (0.5.1)\r\n",
      "Requirement already satisfied: packaging in /Users/whe3/anaconda3/lib/python3.9/site-packages (from bleach->nbconvert->notebook>=4.4.1->widgetsnbextension~=3.5.0->ipywidgets>=7->nglview) (21.0)\r\n",
      "Requirement already satisfied: pyparsing>=2.0.2 in /Users/whe3/anaconda3/lib/python3.9/site-packages (from packaging->bleach->nbconvert->notebook>=4.4.1->widgetsnbextension~=3.5.0->ipywidgets>=7->nglview) (3.0.4)\r\n"
     ]
    }
   ],
   "source": [
    "! pip install nglview"
   ]
  },
  {
   "cell_type": "code",
   "execution_count": 1,
   "id": "27839dfc",
   "metadata": {},
   "outputs": [
    {
     "data": {
      "application/vnd.jupyter.widget-view+json": {
       "model_id": "7a01c649bf2e41f38315a86758b71394",
       "version_major": 2,
       "version_minor": 0
      },
      "text/plain": []
     },
     "metadata": {},
     "output_type": "display_data"
    },
    {
     "data": {
      "application/vnd.jupyter.widget-view+json": {
       "model_id": "26666ea7bc324e57bc52eb2d4852bfd2",
       "version_major": 2,
       "version_minor": 0
      },
      "text/plain": [
       "NGLWidget()"
      ]
     },
     "metadata": {},
     "output_type": "display_data"
    }
   ],
   "source": [
    "import nglview\n",
    "\n",
    "## Load a protein structure from local directory\n",
    "view = nglview.show_file('ERCC2_alphafold.pdb')\n",
    "\n",
    "view"
   ]
  },
  {
   "cell_type": "code",
   "execution_count": 13,
   "id": "a3c85f0f",
   "metadata": {},
   "outputs": [
    {
     "data": {
      "application/vnd.jupyter.widget-view+json": {
       "model_id": "641dea2f8f3c42ed94dea6f760798069",
       "version_major": 2,
       "version_minor": 0
      },
      "text/plain": [
       "NGLWidget()"
      ]
     },
     "metadata": {},
     "output_type": "display_data"
    }
   ],
   "source": [
    "## show structure with surface\n",
    "view = nglview.show_file('ERCC2_alphafold.pdb')\n",
    "view.add_surface(opacity=0.4,color='lightblue')\n",
    "view.remove_cartoon()\n",
    "view"
   ]
  },
  {
   "cell_type": "code",
   "execution_count": 14,
   "id": "2eae41c5",
   "metadata": {},
   "outputs": [
    {
     "data": {
      "application/vnd.jupyter.widget-view+json": {
       "model_id": "71b257761b27463c8c44d178ecaf9263",
       "version_major": 2,
       "version_minor": 0
      },
      "text/plain": [
       "NGLWidget()"
      ]
     },
     "metadata": {},
     "output_type": "display_data"
    }
   ],
   "source": [
    "## show structure with stick-and-ball\n",
    "\n",
    "view = nglview.show_file('ERCC2_alphafold.pdb')\n",
    "\n",
    "view.add_ball_and_stick(color='red')\n",
    "view.remove_cartoon()\n",
    "\n",
    "view"
   ]
  },
  {
   "cell_type": "code",
   "execution_count": 15,
   "id": "bb398d22",
   "metadata": {},
   "outputs": [
    {
     "data": {
      "application/vnd.jupyter.widget-view+json": {
       "model_id": "f9240447206f47e0937fb5e7dfaf1751",
       "version_major": 2,
       "version_minor": 0
      },
      "text/plain": [
       "NGLWidget()"
      ]
     },
     "metadata": {},
     "output_type": "display_data"
    }
   ],
   "source": [
    "## show structure with dots\n",
    "\n",
    "view = nglview.show_file('ERCC2_alphafold.pdb')\n",
    "\n",
    "view.add_point()\n",
    "view.remove_cartoon()\n",
    "\n",
    "view"
   ]
  },
  {
   "cell_type": "code",
   "execution_count": 2,
   "id": "c6d50754",
   "metadata": {
    "scrolled": true
   },
   "outputs": [
    {
     "data": {
      "application/vnd.jupyter.widget-view+json": {
       "model_id": "a60519cbcc334151a81a03aa7cac8a23",
       "version_major": 2,
       "version_minor": 0
      },
      "text/plain": [
       "NGLWidget()"
      ]
     },
     "metadata": {},
     "output_type": "display_data"
    }
   ],
   "source": [
    "# Load a protein structure from pdb database\n",
    "\n",
    "view = nglview.show_pdbid('8g4v')\n",
    "\n",
    "view"
   ]
  },
  {
   "cell_type": "code",
   "execution_count": 18,
   "id": "48aa2d4f",
   "metadata": {},
   "outputs": [
    {
     "data": {
      "application/vnd.jupyter.widget-view+json": {
       "model_id": "8f174f6621144a25844351c0f3c8eebe",
       "version_major": 2,
       "version_minor": 0
      },
      "text/plain": [
       "NGLWidget()"
      ]
     },
     "metadata": {},
     "output_type": "display_data"
    }
   ],
   "source": [
    "## Highlight the selected the residues \n",
    "\n",
    "view = nglview.show_file('ERCC2_alphafold.pdb')\n",
    "\n",
    "#view.add_surface(opacity=0.4,color='lightgrey')\n",
    "view.remove_cartoon()\n",
    "\n",
    "view.add_representation('licorice', selection=str([1,14,15,19,26,30,40]),color='red',radius=0.5)\n",
    "\n",
    "view.add_representation('licorice', selection=str([1,139,128,134,148,150]),color='blue',radius=0.5)\n",
    "\n",
    "view.add_representation('licorice', selection=str([1,305,321,342,317,400]),color='green',radius=0.5)\n",
    "\n",
    "\n",
    "view.add_label(selection=str([1,305,321,342,317,400]),labelType=\"resname\",\n",
    "               labelGrouping = 'residue',font_size=100,color='black',\n",
    "               fontWeight='bold')\n",
    "\n",
    "view"
   ]
  },
  {
   "cell_type": "code",
   "execution_count": null,
   "id": "6961f9fd",
   "metadata": {},
   "outputs": [],
   "source": []
  }
 ],
 "metadata": {
  "kernelspec": {
   "display_name": "Python 3 (ipykernel)",
   "language": "python",
   "name": "python3"
  },
  "language_info": {
   "codemirror_mode": {
    "name": "ipython",
    "version": 3
   },
   "file_extension": ".py",
   "mimetype": "text/x-python",
   "name": "python",
   "nbconvert_exporter": "python",
   "pygments_lexer": "ipython3",
   "version": "3.9.7"
  }
 },
 "nbformat": 4,
 "nbformat_minor": 5
}
